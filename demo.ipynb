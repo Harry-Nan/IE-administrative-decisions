{
 "cells": [
  {
   "cell_type": "markdown",
   "id": "33d66741",
   "metadata": {},
   "source": [
    "## Demo: Information Extraction from Administrative Decisions\n",
    "\n",
    "This notebook contains a demo for information extraction from Administrative Decisions (enforcement decisions, admnistrative fines or penalties). The project is explained in the thesis 'Combining rule-based and machine learning methods for effective information extraction on administrative decisions'. Github link: https://github.com/Harry-Nan/IE-administrative-decisions/\n",
    "\n",
    "### Data\n",
    "The data is obtained from [Woogle](https://woogle.wooverheid.nl/search?q=*). The governing bodies [Kansspelautoriteit](kansspelautoriteit.nl/) (Dutch gambling authority, KSA) and the [Autoriteit Financiële Markten](afm.nl/) (Dutch financial markets authority, AFM) are used in this project. For this demo, information from one KSA administrative fine will be extracted ([download pdf](https://pid.wooverheid.nl/?pid=nl.ab5.2k.2014.1.bijlage.1)). The following code imports this data, obtained from Woogle, into a DataFrame."
   ]
  },
  {
   "cell_type": "code",
   "execution_count": 1,
   "id": "04146356",
   "metadata": {},
   "outputs": [
    {
     "data": {
      "text/html": [
       "<div>\n",
       "<style scoped>\n",
       "    .dataframe tbody tr th:only-of-type {\n",
       "        vertical-align: middle;\n",
       "    }\n",
       "\n",
       "    .dataframe tbody tr th {\n",
       "        vertical-align: top;\n",
       "    }\n",
       "\n",
       "    .dataframe thead th {\n",
       "        text-align: right;\n",
       "    }\n",
       "</style>\n",
       "<table border=\"1\" class=\"dataframe\">\n",
       "  <thead>\n",
       "    <tr style=\"text-align: right;\">\n",
       "      <th></th>\n",
       "      <th>foi_bodyTextOCR</th>\n",
       "    </tr>\n",
       "    <tr>\n",
       "      <th>foi_documentId</th>\n",
       "      <th></th>\n",
       "    </tr>\n",
       "  </thead>\n",
       "  <tbody>\n",
       "    <tr>\n",
       "      <th>nl.ab5.2k.2014.1.bijlage.1</th>\n",
       "      <td>OPENBAAR Kansspelautoriteit         Beslui...</td>\n",
       "    </tr>\n",
       "    <tr>\n",
       "      <th>nl.ab5.2k.2014.1.bijlage.1</th>\n",
       "      <td>OPENBAAR Kansspelautoriteit  Datum  21 nov...</td>\n",
       "    </tr>\n",
       "    <tr>\n",
       "      <th>nl.ab5.2k.2014.1.bijlage.1</th>\n",
       "      <td>OPENBAAR Kansspelautoriteit  Datum  21 nov...</td>\n",
       "    </tr>\n",
       "    <tr>\n",
       "      <th>nl.ab5.2k.2014.1.bijlage.1</th>\n",
       "      <td>OPENBAAR Kansspelautoriteit    Datum   21 ...</td>\n",
       "    </tr>\n",
       "    <tr>\n",
       "      <th>nl.ab5.2k.2014.1.bijlage.1</th>\n",
       "      <td>OPENBAAR Kansspelautoriteit    Datum   21 ...</td>\n",
       "    </tr>\n",
       "  </tbody>\n",
       "</table>\n",
       "</div>"
      ],
      "text/plain": [
       "                                                              foi_bodyTextOCR\n",
       "foi_documentId                                                               \n",
       "nl.ab5.2k.2014.1.bijlage.1      OPENBAAR Kansspelautoriteit         Beslui...\n",
       "nl.ab5.2k.2014.1.bijlage.1      OPENBAAR Kansspelautoriteit  Datum  21 nov...\n",
       "nl.ab5.2k.2014.1.bijlage.1      OPENBAAR Kansspelautoriteit  Datum  21 nov...\n",
       "nl.ab5.2k.2014.1.bijlage.1      OPENBAAR Kansspelautoriteit    Datum   21 ...\n",
       "nl.ab5.2k.2014.1.bijlage.1      OPENBAAR Kansspelautoriteit    Datum   21 ..."
      ]
     },
     "metadata": {},
     "output_type": "display_data"
    },
    {
     "name": "stdout",
     "output_type": "stream",
     "text": [
      "(14, 54)\n"
     ]
    }
   ],
   "source": [
    "# import KSA-decision\n",
    "import pandas as pd\n",
    "\n",
    "all_ksa_decisions = pd.read_csv(\"D:\\\\Documents\\\\UvA\\\\CITaDOG\\\\ksa_1.csv\").set_index('foi_documentId')\n",
    "decision = all_ksa_decisions.loc['nl.ab5.2k.2014.1.bijlage.1']\n",
    "\n",
    "# Display data\n",
    "display(decision[['foi_bodyTextOCR']].head(5))\n",
    "\n",
    "# Display shape of DataFrame\n",
    "print(decision.shape)"
   ]
  },
  {
   "cell_type": "markdown",
   "id": "f2f50e0e",
   "metadata": {},
   "source": [
    "### Data preprocessing: Remove header/footer\n",
    "Headers and footers are removed from the data. Additionally, excessive spaces etc. are removed. This code assumes the data is obtained per page. In order to do this, SpaCy’s pre-trained pipeline ’nl_core_news_lg’ will be imported and used."
   ]
  },
  {
   "cell_type": "code",
   "execution_count": 2,
   "id": "91661c3c",
   "metadata": {},
   "outputs": [
    {
     "name": "stdout",
     "output_type": "stream",
     "text": [
      "Successfully loaded nlp-model.\n"
     ]
    }
   ],
   "source": [
    "# Import and load nlp-model\n",
    "from scripts.spacy_model import spacy_nlp\n",
    "nlp = spacy_nlp()"
   ]
  },
  {
   "cell_type": "code",
   "execution_count": 3,
   "id": "cc15e845",
   "metadata": {},
   "outputs": [
    {
     "data": {
      "text/html": [
       "<div>\n",
       "<style scoped>\n",
       "    .dataframe tbody tr th:only-of-type {\n",
       "        vertical-align: middle;\n",
       "    }\n",
       "\n",
       "    .dataframe tbody tr th {\n",
       "        vertical-align: top;\n",
       "    }\n",
       "\n",
       "    .dataframe thead th {\n",
       "        text-align: right;\n",
       "    }\n",
       "</style>\n",
       "<table border=\"1\" class=\"dataframe\">\n",
       "  <thead>\n",
       "    <tr style=\"text-align: right;\">\n",
       "      <th></th>\n",
       "      <th>foi_bodyTextOCR</th>\n",
       "      <th>cleaned_text</th>\n",
       "    </tr>\n",
       "    <tr>\n",
       "      <th>foi_documentId</th>\n",
       "      <th></th>\n",
       "      <th></th>\n",
       "    </tr>\n",
       "  </thead>\n",
       "  <tbody>\n",
       "    <tr>\n",
       "      <th>nl.ab5.2k.2014.1.bijlage.1</th>\n",
       "      <td>OPENBAAR Kansspelautoriteit         Beslui...</td>\n",
       "      <td>Besluit van de Raad van Bestuur van de Kansspe...</td>\n",
       "    </tr>\n",
       "    <tr>\n",
       "      <th>nl.ab5.2k.2014.1.bijlage.1</th>\n",
       "      <td>OPENBAAR Kansspelautoriteit  Datum  21 nov...</td>\n",
       "      <td>Inhoudsopgave Samenvatting. … sss sens veeenen...</td>\n",
       "    </tr>\n",
       "    <tr>\n",
       "      <th>nl.ab5.2k.2014.1.bijlage.1</th>\n",
       "      <td>OPENBAAR Kansspelautoriteit  Datum  21 nov...</td>\n",
       "      <td>Inleiding 1. De Kansspelautoriteit is belast m...</td>\n",
       "    </tr>\n",
       "    <tr>\n",
       "      <th>nl.ab5.2k.2014.1.bijlage.1</th>\n",
       "      <td>OPENBAAR Kansspelautoriteit    Datum   21 ...</td>\n",
       "      <td>Onderzoek winkel Star SAT Electronica 2.1 Het ...</td>\n",
       "    </tr>\n",
       "    <tr>\n",
       "      <th>nl.ab5.2k.2014.1.bijlage.1</th>\n",
       "      <td>OPENBAAR Kansspelautoriteit    Datum   21 ...</td>\n",
       "      <td>bedoeld in artikel 30b, eerste lid, aanhef en ...</td>\n",
       "    </tr>\n",
       "  </tbody>\n",
       "</table>\n",
       "</div>"
      ],
      "text/plain": [
       "                                                              foi_bodyTextOCR  \\\n",
       "foi_documentId                                                                  \n",
       "nl.ab5.2k.2014.1.bijlage.1      OPENBAAR Kansspelautoriteit         Beslui...   \n",
       "nl.ab5.2k.2014.1.bijlage.1      OPENBAAR Kansspelautoriteit  Datum  21 nov...   \n",
       "nl.ab5.2k.2014.1.bijlage.1      OPENBAAR Kansspelautoriteit  Datum  21 nov...   \n",
       "nl.ab5.2k.2014.1.bijlage.1      OPENBAAR Kansspelautoriteit    Datum   21 ...   \n",
       "nl.ab5.2k.2014.1.bijlage.1      OPENBAAR Kansspelautoriteit    Datum   21 ...   \n",
       "\n",
       "                                                                 cleaned_text  \n",
       "foi_documentId                                                                 \n",
       "nl.ab5.2k.2014.1.bijlage.1  Besluit van de Raad van Bestuur van de Kansspe...  \n",
       "nl.ab5.2k.2014.1.bijlage.1  Inhoudsopgave Samenvatting. … sss sens veeenen...  \n",
       "nl.ab5.2k.2014.1.bijlage.1  Inleiding 1. De Kansspelautoriteit is belast m...  \n",
       "nl.ab5.2k.2014.1.bijlage.1  Onderzoek winkel Star SAT Electronica 2.1 Het ...  \n",
       "nl.ab5.2k.2014.1.bijlage.1  bedoeld in artikel 30b, eerste lid, aanhef en ...  "
      ]
     },
     "metadata": {},
     "output_type": "display_data"
    },
    {
     "name": "stdout",
     "output_type": "stream",
     "text": [
      "(14, 57)\n"
     ]
    }
   ],
   "source": [
    "# Import scripts\n",
    "from scripts.clean_text import run_clean_text\n",
    "\n",
    "# Remove headers/footers, excessive spacing\n",
    "decision = run_clean_text(decision)\n",
    "\n",
    "display(decision[['foi_bodyTextOCR', 'cleaned_text']].head(5))\n",
    "print(decision.shape)"
   ]
  },
  {
   "cell_type": "markdown",
   "id": "8367955c",
   "metadata": {},
   "source": [
    "### Selection / categorization of data\n",
    "\n",
    "As explained in section 3.1, a selection of administrative fines and penalties is made. The following script checks if a document is an administrative fine and administrative penalty."
   ]
  },
  {
   "cell_type": "code",
   "execution_count": 4,
   "id": "1d551ae0",
   "metadata": {},
   "outputs": [
    {
     "name": "stdout",
     "output_type": "stream",
     "text": [
      "Successfully loaded nlp-model.\n",
      "Successfully loaded nlp-model.\n",
      "Step 1 completed: doc contains keyword(s).\n",
      "Step 2 completed: non-advice text found.\n",
      "Step 3 completed: possible legal effect(s) found: ['€ 20.000', '€ 20.000', '€ 20.000.']\n",
      "Document is an administrative fine.\n"
     ]
    }
   ],
   "source": [
    "from scripts.categorization import hasFilterWords, removeAdviceRevelation, convertToSents, identifyLegalEffect\n",
    "\n",
    "# Put text into list for easier accessability\n",
    "list_of_pages = list(decision['cleaned_text'])\n",
    "\n",
    "# loop to go through all steps identified in 3.1:\n",
    "\n",
    "# Step 1: keyword extraction\n",
    "step1 = hasFilterWords(list_of_pages, category='sanctie') # category can be sanctie (fine) or dwangsom (penalty)\n",
    "if step1:\n",
    "    print('Step 1 completed: doc contains keyword(s).')\n",
    "    \n",
    "    # Step 2: remove advices\n",
    "    list_of_pages = removeAdviceRevelation(list_of_pages)\n",
    "    if list_of_pages:\n",
    "        print('Step 2 completed: non-advice text found.')\n",
    "        \n",
    "        # Step 3: identify Legal Effect\n",
    "        list_of_sentences = convertToSents(list_of_pages) # Necessary step to identify Legal Effect\n",
    "        possible_legal_effects = identifyLegalEffect(list_of_sentences)\n",
    "        \n",
    "        if possible_legal_effects:\n",
    "            print('Step 3 completed: possible legal effect(s) found:', possible_legal_effects[0])\n",
    "            print('Document is an administrative fine.')\n",
    "        else:\n",
    "            print('Step 3 failed: no legal effect identified.')        \n",
    "    else:\n",
    "        print('Step 2 failed: document is an advice.')   \n",
    "else:\n",
    "    print('Step 1 failed: doc contains no keyword(s)')"
   ]
  },
  {
   "cell_type": "markdown",
   "id": "0caafe09",
   "metadata": {},
   "source": [
    "Afterwards, objection to appeal decisions are removed. Disclosure decisions are already removed from the text in step 2 in the code above. The removal of objection to appeal decisions is done in the following way:"
   ]
  },
  {
   "cell_type": "code",
   "execution_count": 5,
   "id": "9a345800",
   "metadata": {},
   "outputs": [
    {
     "name": "stdout",
     "output_type": "stream",
     "text": [
      "Document is not an objection to appeal decision.\n"
     ]
    }
   ],
   "source": [
    "from scripts.categorization import isPrimair\n",
    "\n",
    "isprimair = isPrimair(list_of_pages) # removes text that is identified to be disclosure/objection to appeal decision\n",
    "\n",
    "if isprimair:\n",
    "    print('Document is not an objection to appeal decision.')\n",
    "else:\n",
    "    print('Document is an objection to appeal decision.')"
   ]
  },
  {
   "cell_type": "markdown",
   "id": "534f8a8c",
   "metadata": {},
   "source": [
    "# 3.2.1 Extraction of Date\n",
    "\n",
    "The following steps are taken to extract the date, as explained in the thesis:\n",
    "1. Matching on date-patterns.\n",
    "2. Presence of date in header/footer. \n",
    "3. Keyword matching on 'Datum' or Dutch city. [External data](https://metatopos.dijkewijk.nl/) that contains all Dutch cities is used."
   ]
  },
  {
   "cell_type": "code",
   "execution_count": 6,
   "id": "36c2c569",
   "metadata": {},
   "outputs": [
    {
     "name": "stdout",
     "output_type": "stream",
     "text": [
      "21/11/2013\n"
     ]
    }
   ],
   "source": [
    "from scripts.extract_date import extract_date\n",
    "\n",
    "# Extract date\n",
    "date = extract_date(decision.loc['nl.ab5.2k.2014.1.bijlage.1'])[1]\n",
    "print(date[0])\n",
    "\n",
    "#df['date'] = date"
   ]
  },
  {
   "cell_type": "markdown",
   "id": "745d4f44",
   "metadata": {},
   "source": [
    "## 3.2.2 Extraction of Violated Article and Legal Basis\n",
    "\n",
    "The following steps are taken to extract the Violated Article and Legal Basis, as explained in the thesis:\n",
    "\n",
    "1. Keyword matching ('artikel').\n",
    "2. POS-tagging to obtain full article.\n",
    "3. Context-aware matching (keywords)."
   ]
  },
  {
   "cell_type": "code",
   "execution_count": 7,
   "id": "3ffcc20c",
   "metadata": {},
   "outputs": [
    {
     "name": "stdout",
     "output_type": "stream",
     "text": [
      "Successfully loaded nlp-model.\n",
      "['artikel 35a van de Wet op de kansspelen', 'artikel 3, boek 2 van het Burgerlijk Wetboek).', 'artikel 5:48 van de Algemene wet bestuursrecht.']\n"
     ]
    }
   ],
   "source": [
    "# Convert to sentences\n",
    "from scripts.text_to_sents import convertToSents\n",
    "list_of_sentences = convertToSents(list_of_pages)\n",
    "\n",
    "# Extract Violated Article / Legal Basis\n",
    "from scripts.extract_article import find_articles\n",
    "articles, articles_idxs = find_articles(list_of_sentences, nlp)\n",
    "\n",
    "print(articles[:3])"
   ]
  },
  {
   "cell_type": "markdown",
   "id": "824e5b2a",
   "metadata": {},
   "source": [
    "### 3.2.3 Extraction of Legal Effect\n",
    "\n",
    "The following steps are taken to extract the legal effect, as explained in the thesis:\n",
    "\n",
    "1. Matching on money-patterns.\n",
    "2. POS-tagging to obtain associated noun.\n",
    "3. Keyword matching."
   ]
  },
  {
   "cell_type": "code",
   "execution_count": 8,
   "id": "fd534fac",
   "metadata": {},
   "outputs": [
    {
     "name": "stdout",
     "output_type": "stream",
     "text": [
      "Successfully loaded nlp-model.\n",
      "Identified legal effect(s): ['€ 20.000', '€ 20.000', '€ 20.000.']\n"
     ]
    }
   ],
   "source": [
    "# Extract legal Effect(s)\n",
    "from scripts.extract_legal_effect import extract_legal_effect\n",
    "legal_effect_all = extract_legal_effect(list_of_sentences)\n",
    "legal_effect = legal_effect_all[0]\n",
    "legal_effect_idx = legal_effect_all[1]\n",
    "\n",
    "print(f'Identified legal effect(s):', legal_effect)"
   ]
  },
  {
   "cell_type": "markdown",
   "id": "40c67764",
   "metadata": {},
   "source": [
    "## Obtain sentences based on 3.2.2 and 3.2.3."
   ]
  },
  {
   "cell_type": "code",
   "execution_count": 9,
   "id": "04675ade",
   "metadata": {},
   "outputs": [
    {
     "name": "stdout",
     "output_type": "stream",
     "text": [
      "['Hij is verantwoordelijk voor de gang van zaken in de winkel en als eigenaar van de eenmanszaak aansprakelijk voor de gehele bedrijfsvoering. De aanwezigheid van de gokzuil in de winkel is aan hem toe te rekenen. 39, Derhalve is de eigenaar aan te merken als overtreder van artikel 30t, eerste lid, aanhef en onder c, van de Wok. 21 Hof Arnhem-Leeuwarden,', 'Inleiding 40. 41. 42. 43. 44, De Raad van Bestuur van de Kansspelautoriteit is ingevolge artikel 35a van de Wok bevoegd een boete op te leggen van ten hoogste het bedrag van de zesde categorie (artikel 23 van het Wetboek van Strafrecht) of - indien dit meer is — 10% van de omzet in het boekjaar voorafgaand aan de beschikking. Bij de vaststelling van de boete houdt de Raad rekening met de ernst van de overtreding en de mate waarin deze aan de overtreder kan worden verweten. Zo nodig houdt de Raad rekening met de omstandigheden waaronder de overtreding is gepleegd (artikel 5:46 van de Algemene wet bestuursrecht). Ingevolge artikel 3.4, tweede lid, van de Algemene wet bestuursrecht neemt de Raad bij het bepalen van de hoogte van de boete het evenredigheidsbeginsel in acht. overtreders een afschrikkende werking heeft (generale preventie). In de onderhavige zaak is de Raad van oordeel dat het passend is een boete op te leggen voor de overtreding van artikel 30t, eerste lid, aanhef en onder c, van de Wok. 8.2 Verwijtbaarheid 45. 46.', 'De Raad kwalificeert het aanwezig hebben van niet tot toelating gemerkte speelautomaten, in casu voor het afsluiten van sportweddenschappen, als zeer ernstig. 53. De Raad stelt vast dat in de periode 10 november 2012 tot en met 20 december 2012 in de winkel Star SAT Electronica op een niet tot toelating gemerkte speelautomaat (gokzuil) gelegenheid was tot het afsluiten van sportweddenschappen. 8.4 Boetevaststelling 54. Gelet op bovenstaande acht de Raad van bestuur van de Kansspelautoriteit een boete van € 20.000 passend en geboden. 8.5 Boeteverhogende of boeteverlagende omstandigheden 55. Er is niet gebleken van boeteverhogende of boeteverlagende omstandigheden. 8.6', 'Besluit De Raad van Bestuur van de Kansspelautoriteit: b. stelt vast dat de eigenaar van Star SAT Electronica, de heer [...] een overtreding heeft begaan van artikel 30t, eerste lid, aanhef en onder c, van de Wok door het aanwezig hebben van een speelautomaat (gokzuil) van een niet toegelaten model en niet voorzien van een bijbehorend merkteken, op een voor het publiek toegankelijke plaats, te weten een winkel. legt aan de eigenaar een boete op van € 20.000. ‘s-Gravenhage 21 november 2013']\n"
     ]
    }
   ],
   "source": [
    "# Obtain sentences based on identified idxs\n",
    "from scripts.candidateSentences import selectCandidateSentences\n",
    "candidate_sents = selectCandidateSentences(legal_effect_idx, articles_idxs, list_of_sentences)\n",
    "\n",
    "# Print last two sections of extracted sentence(s)\n",
    "print(candidate_sents[2:])"
   ]
  },
  {
   "cell_type": "markdown",
   "id": "badb32a1",
   "metadata": {},
   "source": [
    "## Analyse sentences using ChatGPT (3.3), and extract information.\n",
    "\n",
    "The following code obtains a response from ChatGPT after prompting it the prompt as explained in the thesis.\n",
    "\n",
    "Note: an API key from openAI is required to run this code."
   ]
  },
  {
   "cell_type": "code",
   "execution_count": 10,
   "id": "1e2ed488",
   "metadata": {},
   "outputs": [],
   "source": [
    "# Analyse sentences using ChatGPT, and extract information\n",
    "from scripts.askGPT import askGPT, extractInformation\n",
    "response = askGPT(candidate_sents, category='sanctie')"
   ]
  },
  {
   "cell_type": "code",
   "execution_count": 11,
   "id": "8adeb61d",
   "metadata": {},
   "outputs": [
    {
     "data": {
      "text/html": [
       "<div>\n",
       "<style scoped>\n",
       "    .dataframe tbody tr th:only-of-type {\n",
       "        vertical-align: middle;\n",
       "    }\n",
       "\n",
       "    .dataframe tbody tr th {\n",
       "        vertical-align: top;\n",
       "    }\n",
       "\n",
       "    .dataframe thead th {\n",
       "        text-align: right;\n",
       "    }\n",
       "</style>\n",
       "<table border=\"1\" class=\"dataframe\">\n",
       "  <thead>\n",
       "    <tr style=\"text-align: right;\">\n",
       "      <th></th>\n",
       "      <th>legal effect</th>\n",
       "      <th>ontvanger</th>\n",
       "      <th>overtreden_artikel</th>\n",
       "      <th>type of activity</th>\n",
       "      <th>dma</th>\n",
       "      <th>legal basis</th>\n",
       "      <th>date</th>\n",
       "    </tr>\n",
       "  </thead>\n",
       "  <tbody>\n",
       "    <tr>\n",
       "      <th>0</th>\n",
       "      <td>[20000]</td>\n",
       "      <td>[eigenaar van de elektronicawinkel Star SAT El...</td>\n",
       "      <td>[[artikel 30t, eerste lid, aanhef en onder c, ...</td>\n",
       "      <td>Het aanwezig hebben van een speelautomaat (gok...</td>\n",
       "      <td>Raad van Bestuur van de Kansspelautoriteit</td>\n",
       "      <td>artikel 35a van de Wet op de kansspelen</td>\n",
       "      <td>21/11/2013</td>\n",
       "    </tr>\n",
       "  </tbody>\n",
       "</table>\n",
       "</div>"
      ],
      "text/plain": [
       "  legal effect                                          ontvanger  \\\n",
       "0      [20000]  [eigenaar van de elektronicawinkel Star SAT El...   \n",
       "\n",
       "                                  overtreden_artikel  \\\n",
       "0  [[artikel 30t, eerste lid, aanhef en onder c, ...   \n",
       "\n",
       "                                    type of activity  \\\n",
       "0  Het aanwezig hebben van een speelautomaat (gok...   \n",
       "\n",
       "                                          dma  \\\n",
       "0  Raad van Bestuur van de Kansspelautoriteit   \n",
       "\n",
       "                               legal basis        date  \n",
       "0  artikel 35a van de Wet op de kansspelen  21/11/2013  "
      ]
     },
     "execution_count": 11,
     "metadata": {},
     "output_type": "execute_result"
    }
   ],
   "source": [
    "df = extractInformation(response)\n",
    "\n",
    "# include date (that was previously extracted)\n",
    "df['date'] = date\n",
    "\n",
    "df"
   ]
  }
 ],
 "metadata": {
  "kernelspec": {
   "display_name": "Python 3 (ipykernel)",
   "language": "python",
   "name": "python3"
  },
  "language_info": {
   "codemirror_mode": {
    "name": "ipython",
    "version": 3
   },
   "file_extension": ".py",
   "mimetype": "text/x-python",
   "name": "python",
   "nbconvert_exporter": "python",
   "pygments_lexer": "ipython3",
   "version": "3.11.5"
  }
 },
 "nbformat": 4,
 "nbformat_minor": 5
}
