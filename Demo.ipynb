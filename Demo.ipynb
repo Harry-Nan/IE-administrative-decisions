{
 "cells": [
  {
   "cell_type": "markdown",
   "id": "33d66741",
   "metadata": {},
   "source": [
    "## Demo: Information Extraction from\n",
    "\n",
    "This notebook contains a demo for running the code from the github [link]. "
   ]
  },
  {
   "cell_type": "code",
   "execution_count": 1,
   "id": "04146356",
   "metadata": {},
   "outputs": [
    {
     "data": {
      "text/html": [
       "<div>\n",
       "<style scoped>\n",
       "    .dataframe tbody tr th:only-of-type {\n",
       "        vertical-align: middle;\n",
       "    }\n",
       "\n",
       "    .dataframe tbody tr th {\n",
       "        vertical-align: top;\n",
       "    }\n",
       "\n",
       "    .dataframe thead th {\n",
       "        text-align: right;\n",
       "    }\n",
       "</style>\n",
       "<table border=\"1\" class=\"dataframe\">\n",
       "  <thead>\n",
       "    <tr style=\"text-align: right;\">\n",
       "      <th></th>\n",
       "      <th>foi_dossierType</th>\n",
       "      <th>foi_pageNumber</th>\n",
       "      <th>foi_bodyText</th>\n",
       "      <th>foi_bodyTextOCR</th>\n",
       "      <th>foi_hasOCR</th>\n",
       "      <th>foi_redacted</th>\n",
       "      <th>foi_nrRedactedRegions</th>\n",
       "      <th>foi_contourArea</th>\n",
       "      <th>foi_textArea</th>\n",
       "      <th>foi_charArea</th>\n",
       "      <th>...</th>\n",
       "      <th>foi_decisionDate</th>\n",
       "      <th>foi_valuation</th>\n",
       "      <th>foi_requestText</th>\n",
       "      <th>foi_decisionText</th>\n",
       "      <th>foi_isAdjourned</th>\n",
       "      <th>foi_requester</th>\n",
       "      <th>foi_retrievedDate</th>\n",
       "      <th>tooiwl_rubriek</th>\n",
       "      <th>tooiwl_rubriekCode</th>\n",
       "      <th>foi_geoInfo</th>\n",
       "    </tr>\n",
       "    <tr>\n",
       "      <th>foi_documentId</th>\n",
       "      <th></th>\n",
       "      <th></th>\n",
       "      <th></th>\n",
       "      <th></th>\n",
       "      <th></th>\n",
       "      <th></th>\n",
       "      <th></th>\n",
       "      <th></th>\n",
       "      <th></th>\n",
       "      <th></th>\n",
       "      <th></th>\n",
       "      <th></th>\n",
       "      <th></th>\n",
       "      <th></th>\n",
       "      <th></th>\n",
       "      <th></th>\n",
       "      <th></th>\n",
       "      <th></th>\n",
       "      <th></th>\n",
       "      <th></th>\n",
       "      <th></th>\n",
       "    </tr>\n",
       "  </thead>\n",
       "  <tbody>\n",
       "    <tr>\n",
       "      <th>nl.ab5.2k.2014.1.bijlage.1</th>\n",
       "      <td>2k</td>\n",
       "      <td>1</td>\n",
       "      <td>NaN</td>\n",
       "      <td>OPENBAAR Kansspelautoriteit         Beslui...</td>\n",
       "      <td>True</td>\n",
       "      <td>0.0</td>\n",
       "      <td>0.0</td>\n",
       "      <td>0.0</td>\n",
       "      <td>4121800.0</td>\n",
       "      <td>917050.0</td>\n",
       "      <td>...</td>\n",
       "      <td>NaN</td>\n",
       "      <td>NaN</td>\n",
       "      <td>NaN</td>\n",
       "      <td>NaN</td>\n",
       "      <td>NaN</td>\n",
       "      <td>NaN</td>\n",
       "      <td>2023-03-10</td>\n",
       "      <td>NaN</td>\n",
       "      <td>NaN</td>\n",
       "      <td>NaN</td>\n",
       "    </tr>\n",
       "    <tr>\n",
       "      <th>nl.ab5.2k.2014.1.bijlage.1</th>\n",
       "      <td>2k</td>\n",
       "      <td>2</td>\n",
       "      <td>NaN</td>\n",
       "      <td>OPENBAAR Kansspelautoriteit  Datum  21 nov...</td>\n",
       "      <td>True</td>\n",
       "      <td>0.0</td>\n",
       "      <td>0.0</td>\n",
       "      <td>0.0</td>\n",
       "      <td>5008125.0</td>\n",
       "      <td>983842.0</td>\n",
       "      <td>...</td>\n",
       "      <td>NaN</td>\n",
       "      <td>NaN</td>\n",
       "      <td>NaN</td>\n",
       "      <td>NaN</td>\n",
       "      <td>NaN</td>\n",
       "      <td>NaN</td>\n",
       "      <td>2023-03-10</td>\n",
       "      <td>NaN</td>\n",
       "      <td>NaN</td>\n",
       "      <td>NaN</td>\n",
       "    </tr>\n",
       "  </tbody>\n",
       "</table>\n",
       "<p>2 rows × 54 columns</p>\n",
       "</div>"
      ],
      "text/plain": [
       "                           foi_dossierType  foi_pageNumber foi_bodyText  \\\n",
       "foi_documentId                                                            \n",
       "nl.ab5.2k.2014.1.bijlage.1              2k               1          NaN   \n",
       "nl.ab5.2k.2014.1.bijlage.1              2k               2          NaN   \n",
       "\n",
       "                                                              foi_bodyTextOCR  \\\n",
       "foi_documentId                                                                  \n",
       "nl.ab5.2k.2014.1.bijlage.1      OPENBAAR Kansspelautoriteit         Beslui...   \n",
       "nl.ab5.2k.2014.1.bijlage.1      OPENBAAR Kansspelautoriteit  Datum  21 nov...   \n",
       "\n",
       "                            foi_hasOCR  foi_redacted  foi_nrRedactedRegions  \\\n",
       "foi_documentId                                                                \n",
       "nl.ab5.2k.2014.1.bijlage.1        True           0.0                    0.0   \n",
       "nl.ab5.2k.2014.1.bijlage.1        True           0.0                    0.0   \n",
       "\n",
       "                            foi_contourArea  foi_textArea  foi_charArea  ...  \\\n",
       "foi_documentId                                                           ...   \n",
       "nl.ab5.2k.2014.1.bijlage.1              0.0     4121800.0      917050.0  ...   \n",
       "nl.ab5.2k.2014.1.bijlage.1              0.0     5008125.0      983842.0  ...   \n",
       "\n",
       "                            foi_decisionDate  foi_valuation  foi_requestText  \\\n",
       "foi_documentId                                                                 \n",
       "nl.ab5.2k.2014.1.bijlage.1               NaN            NaN              NaN   \n",
       "nl.ab5.2k.2014.1.bijlage.1               NaN            NaN              NaN   \n",
       "\n",
       "                            foi_decisionText  foi_isAdjourned  foi_requester  \\\n",
       "foi_documentId                                                                 \n",
       "nl.ab5.2k.2014.1.bijlage.1               NaN              NaN            NaN   \n",
       "nl.ab5.2k.2014.1.bijlage.1               NaN              NaN            NaN   \n",
       "\n",
       "                           foi_retrievedDate tooiwl_rubriek  \\\n",
       "foi_documentId                                                \n",
       "nl.ab5.2k.2014.1.bijlage.1        2023-03-10            NaN   \n",
       "nl.ab5.2k.2014.1.bijlage.1        2023-03-10            NaN   \n",
       "\n",
       "                            tooiwl_rubriekCode foi_geoInfo  \n",
       "foi_documentId                                              \n",
       "nl.ab5.2k.2014.1.bijlage.1                 NaN         NaN  \n",
       "nl.ab5.2k.2014.1.bijlage.1                 NaN         NaN  \n",
       "\n",
       "[2 rows x 54 columns]"
      ]
     },
     "execution_count": 1,
     "metadata": {},
     "output_type": "execute_result"
    }
   ],
   "source": [
    "# import data\n",
    "import pandas as pd\n",
    "\n",
    "ksa = pd.read_csv(\"D:\\\\Documents\\\\UvA\\\\CITaDOG\\\\ksa_1.csv\").set_index('foi_documentId')\n",
    "\n",
    "ksa.head(2)"
   ]
  },
  {
   "cell_type": "code",
   "execution_count": 2,
   "id": "91661c3c",
   "metadata": {},
   "outputs": [
    {
     "name": "stdout",
     "output_type": "stream",
     "text": [
      "Successfully loaded nlp-model.\n"
     ]
    }
   ],
   "source": [
    "# Import and load nlp-model\n",
    "\n",
    "from scripts.spacy_model import spacy_nlp\n",
    "nlp = spacy_nlp()"
   ]
  },
  {
   "cell_type": "code",
   "execution_count": 3,
   "id": "cc15e845",
   "metadata": {},
   "outputs": [
    {
     "name": "stdout",
     "output_type": "stream",
     "text": [
      "(3624, 57)\n"
     ]
    },
    {
     "data": {
      "text/html": [
       "<div>\n",
       "<style scoped>\n",
       "    .dataframe tbody tr th:only-of-type {\n",
       "        vertical-align: middle;\n",
       "    }\n",
       "\n",
       "    .dataframe tbody tr th {\n",
       "        vertical-align: top;\n",
       "    }\n",
       "\n",
       "    .dataframe thead th {\n",
       "        text-align: right;\n",
       "    }\n",
       "</style>\n",
       "<table border=\"1\" class=\"dataframe\">\n",
       "  <thead>\n",
       "    <tr style=\"text-align: right;\">\n",
       "      <th></th>\n",
       "      <th>foi_bodyTextOCR</th>\n",
       "      <th>cleaned_text</th>\n",
       "    </tr>\n",
       "    <tr>\n",
       "      <th>foi_documentId</th>\n",
       "      <th></th>\n",
       "      <th></th>\n",
       "    </tr>\n",
       "  </thead>\n",
       "  <tbody>\n",
       "    <tr>\n",
       "      <th>nl.ab5.2k.2014.1.bijlage.1</th>\n",
       "      <td>OPENBAAR Kansspelautoriteit         Beslui...</td>\n",
       "      <td>Besluit van de Raad van Bestuur van de Kansspe...</td>\n",
       "    </tr>\n",
       "    <tr>\n",
       "      <th>nl.ab5.2k.2014.1.bijlage.1</th>\n",
       "      <td>OPENBAAR Kansspelautoriteit  Datum  21 nov...</td>\n",
       "      <td>Inhoudsopgave Samenvatting. … sss sens veeenen...</td>\n",
       "    </tr>\n",
       "  </tbody>\n",
       "</table>\n",
       "</div>"
      ],
      "text/plain": [
       "                                                              foi_bodyTextOCR  \\\n",
       "foi_documentId                                                                  \n",
       "nl.ab5.2k.2014.1.bijlage.1      OPENBAAR Kansspelautoriteit         Beslui...   \n",
       "nl.ab5.2k.2014.1.bijlage.1      OPENBAAR Kansspelautoriteit  Datum  21 nov...   \n",
       "\n",
       "                                                                 cleaned_text  \n",
       "foi_documentId                                                                 \n",
       "nl.ab5.2k.2014.1.bijlage.1  Besluit van de Raad van Bestuur van de Kansspe...  \n",
       "nl.ab5.2k.2014.1.bijlage.1  Inhoudsopgave Samenvatting. … sss sens veeenen...  "
      ]
     },
     "execution_count": 3,
     "metadata": {},
     "output_type": "execute_result"
    }
   ],
   "source": [
    "# Preprocess and clean text\n",
    "\n",
    "from scripts.clean_text import run_clean_text\n",
    "\n",
    "ksa = run_clean_text(ksa)\n",
    "\n",
    "print(ksa.shape)\n",
    "ksa[['foi_bodyTextOCR', 'cleaned_text']].head(2)"
   ]
  },
  {
   "cell_type": "markdown",
   "id": "8367955c",
   "metadata": {},
   "source": [
    "### Categorization of data"
   ]
  },
  {
   "cell_type": "code",
   "execution_count": 4,
   "id": "1d551ae0",
   "metadata": {},
   "outputs": [
    {
     "name": "stdout",
     "output_type": "stream",
     "text": [
      "Successfully loaded nlp-model.\n",
      "Successfully loaded nlp-model.\n",
      "True\n",
      "True\n"
     ]
    },
    {
     "data": {
      "text/plain": [
       "(['€ 20.000', '€ 20.000', '€ 20.000.'],\n",
       " [[0, [11, 12]], [12, [3, 4, 5]], [13, [1, 2, 3]]])"
      ]
     },
     "execution_count": 4,
     "metadata": {},
     "output_type": "execute_result"
    }
   ],
   "source": [
    "from scripts.categorization import hasFilterWords, removeAdviceRevelation, isPrimair, convertToSents, identifyLegalEffect\n",
    "\n",
    "l_o_s = list(ksa.loc['nl.ab5.2k.2014.1.bijlage.1']['cleaned_text'])\n",
    "\n",
    "print(hasFilterWords(l_o_s, category='sanctie'))\n",
    "\n",
    "l_o_s = removeAdviceRevelation(l_o_s)\n",
    "\n",
    "print(isPrimair(l_o_s))\n",
    "\n",
    "l_o_s_s = convertToSents(l_o_s)\n",
    "\n",
    "identifyLegalEffect(l_o_s_s)"
   ]
  },
  {
   "cell_type": "code",
   "execution_count": 5,
   "id": "84f41c64",
   "metadata": {},
   "outputs": [
    {
     "name": "stdout",
     "output_type": "stream",
     "text": [
      "['€ 20.000', '€ 20.000', '€ 20.000.']\n"
     ]
    }
   ],
   "source": [
    "from scripts.categorization import isCategoryPrimair\n",
    "\n",
    "l_o_s = list(ksa.loc['nl.ab5.2k.2014.1.bijlage.1']['cleaned_text'])\n",
    "\n",
    "boetes = isCategoryPrimair(l_o_s)\n",
    "legal_effect = None\n",
    "list_of_sents = None\n",
    "if boetes:\n",
    "    list_of_sents = boetes[1]\n",
    "    legal_effect = boetes[2][0]\n",
    "    legal_effect_idxs = boetes[2][1]"
   ]
  },
  {
   "cell_type": "code",
   "execution_count": 6,
   "id": "3ffcc20c",
   "metadata": {},
   "outputs": [
    {
     "name": "stdout",
     "output_type": "stream",
     "text": [
      "[[0, [0, 1]], [7, [2, 3, 4]], [9, [11, 12, 13]], [10, [1, 2, 3, 5, 6, 7, 10, 11, 12]], [13, [0, 1, 2]]]\n",
      "['artikel 35a van de Wet op de kansspelen', 'artikel 3, boek 2 van het Burgerlijk Wetboek).', 'artikel 5:48 van de Algemene wet bestuursrecht.', 'artikel 30t, eerste lid, aanhef en onder c van de Wok', 'artikel 30b,', 'artikel 30r, eerste lid, van de Wok. 4 Zienswijze 14.', 'artikel 33b van de Wok', 'artikel 35a van de Wok', 'artikel 30t, eerste lid, van de Wok. 6.2', 'Artikel 30t, eerste lid, aanhef en onder c, van de Wok', 'artikel 33a,', 'artikel 30r, eerste lid,', 'artikel 30b,', 'Artikel 30r, eerste lid, van de Wok', 'artikel 33a,', 'Artikel 30b, eerste lid, van de Wok', 'artikel 3 van de Drank- en Horecawet', 'artikel 30t, eerste lid, van de Wok', 'artikel 12 van het Speelautomatenbesluit 2000).?? 6.5', 'artikel 30t, eerste lid, aanhef en onder c, van de Wok overtreden.', 'artikel 30t, eerste lid, aanhef en onder c, van de Wok. 21', 'artikel 35a van de Wok bevoegd', 'artikel 5:46 van de Algemene wet bestuursrecht).', 'artikel 3.4, tweede lid, van de Algemene wet bestuursrecht', 'artikel 30t, eerste lid, aanhef en onder c, van de Wok. 8.2', 'artikel 30t, eerste lid, aanhef en onder c, van de Wok', 'artikel 3:41 van de Algemene wet bestuursrecht']\n"
     ]
    }
   ],
   "source": [
    "from scripts.article import find_articles\n",
    "\n",
    "articles, articles_idxs = find_articles(list_of_sents, nlp)"
   ]
  },
  {
   "cell_type": "code",
   "execution_count": 7,
   "id": "04675ade",
   "metadata": {},
   "outputs": [],
   "source": [
    "from scripts.candidateSentences import selectCandidateSentences\n",
    "\n",
    "candidate_sents = selectCandidateSentences(legal_effect_idxs, articles_idxs, list_of_sents)"
   ]
  },
  {
   "cell_type": "code",
   "execution_count": 8,
   "id": "1e2ed488",
   "metadata": {},
   "outputs": [],
   "source": [
    "from scripts.askGPT import askGPT, extractInformation\n",
    "\n",
    "response = askGPT(candidate_sents)"
   ]
  },
  {
   "cell_type": "code",
   "execution_count": 12,
   "id": "8adeb61d",
   "metadata": {},
   "outputs": [],
   "source": [
    "df = extractInformation(response)"
   ]
  },
  {
   "cell_type": "code",
   "execution_count": 17,
   "id": "70e7fc82",
   "metadata": {},
   "outputs": [],
   "source": [
    "# extract date\n",
    "# note: external data is used. See scripts/extract_date for download\n",
    "from scripts.extract_date import extract_date\n",
    "\n",
    "date = extract_date(ksa.loc['nl.ab5.2k.2014.1.bijlage.1'])[1]\n",
    "\n",
    "df['date'] = date"
   ]
  },
  {
   "cell_type": "code",
   "execution_count": 18,
   "id": "5b7cf788",
   "metadata": {},
   "outputs": [
    {
     "data": {
      "text/html": [
       "<div>\n",
       "<style scoped>\n",
       "    .dataframe tbody tr th:only-of-type {\n",
       "        vertical-align: middle;\n",
       "    }\n",
       "\n",
       "    .dataframe tbody tr th {\n",
       "        vertical-align: top;\n",
       "    }\n",
       "\n",
       "    .dataframe thead th {\n",
       "        text-align: right;\n",
       "    }\n",
       "</style>\n",
       "<table border=\"1\" class=\"dataframe\">\n",
       "  <thead>\n",
       "    <tr style=\"text-align: right;\">\n",
       "      <th></th>\n",
       "      <th>legal effect</th>\n",
       "      <th>ontvanger</th>\n",
       "      <th>overtreden_artikel</th>\n",
       "      <th>type of activity</th>\n",
       "      <th>dma</th>\n",
       "      <th>legal basis</th>\n",
       "      <th>date</th>\n",
       "    </tr>\n",
       "  </thead>\n",
       "  <tbody>\n",
       "    <tr>\n",
       "      <th>0</th>\n",
       "      <td>[20000]</td>\n",
       "      <td>[Eigenaar van de elektronicawinkel Star SAT El...</td>\n",
       "      <td>[[artikel 30t, eerste lid, aanhef en onder c, ...</td>\n",
       "      <td>Het aanwezig hebben van een speelautomaat (gok...</td>\n",
       "      <td>Raad van Bestuur van de Kansspelautoriteit</td>\n",
       "      <td>artikel 35a van de Wet op de kansspelen</td>\n",
       "      <td>21/11/2013</td>\n",
       "    </tr>\n",
       "  </tbody>\n",
       "</table>\n",
       "</div>"
      ],
      "text/plain": [
       "  legal effect                                          ontvanger  \\\n",
       "0      [20000]  [Eigenaar van de elektronicawinkel Star SAT El...   \n",
       "\n",
       "                                  overtreden_artikel  \\\n",
       "0  [[artikel 30t, eerste lid, aanhef en onder c, ...   \n",
       "\n",
       "                                    type of activity  \\\n",
       "0  Het aanwezig hebben van een speelautomaat (gok...   \n",
       "\n",
       "                                          dma  \\\n",
       "0  Raad van Bestuur van de Kansspelautoriteit   \n",
       "\n",
       "                               legal basis        date  \n",
       "0  artikel 35a van de Wet op de kansspelen  21/11/2013  "
      ]
     },
     "execution_count": 18,
     "metadata": {},
     "output_type": "execute_result"
    }
   ],
   "source": [
    "df"
   ]
  },
  {
   "cell_type": "code",
   "execution_count": null,
   "id": "256694d0",
   "metadata": {},
   "outputs": [],
   "source": []
  }
 ],
 "metadata": {
  "kernelspec": {
   "display_name": "Python 3 (ipykernel)",
   "language": "python",
   "name": "python3"
  },
  "language_info": {
   "codemirror_mode": {
    "name": "ipython",
    "version": 3
   },
   "file_extension": ".py",
   "mimetype": "text/x-python",
   "name": "python",
   "nbconvert_exporter": "python",
   "pygments_lexer": "ipython3",
   "version": "3.11.5"
  }
 },
 "nbformat": 4,
 "nbformat_minor": 5
}
